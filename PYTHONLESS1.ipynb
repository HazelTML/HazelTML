{
  "nbformat": 4,
  "nbformat_minor": 0,
  "metadata": {
    "colab": {
      "provenance": [],
      "authorship_tag": "ABX9TyNgmmPBWtRPDAdxFa7VyR0h",
      "include_colab_link": true
    },
    "kernelspec": {
      "name": "python3",
      "display_name": "Python 3"
    },
    "language_info": {
      "name": "python"
    }
  },
  "cells": [
    {
      "cell_type": "markdown",
      "metadata": {
        "id": "view-in-github",
        "colab_type": "text"
      },
      "source": [
        "<a href=\"https://colab.research.google.com/github/HazelTML/HazelTML/blob/main/PYTHONLESS1.ipynb\" target=\"_parent\"><img src=\"https://colab.research.google.com/assets/colab-badge.svg\" alt=\"Open In Colab\"/></a>"
      ]
    },
    {
      "cell_type": "code",
      "execution_count": null,
      "metadata": {
        "colab": {
          "base_uri": "https://localhost:8080/"
        },
        "id": "On73szDFIgOd",
        "outputId": "6b980972-3398-4ca2-89ec-344c003e8e39"
      },
      "outputs": [
        {
          "output_type": "stream",
          "name": "stdout",
          "text": [
            "P(2500 <= X <= 4200) = 43.88%\n"
          ]
        }
      ],
      "source": [
        "# Import the required library\n",
        "from scipy.stats import norm\n",
        "\n",
        "# Define the mean and standard deviation\n",
        "mean = 4300  # Average acres burned\n",
        "std_dev = 750  # Standard deviation\n",
        "\n",
        "# Define the range\n",
        "x1 = 2500\n",
        "x2 = 4200\n",
        "\n",
        "# Calculate the probabilities\n",
        "prob_x1 = norm(loc=mean, scale=std_dev).cdf(x1)\n",
        "prob_x2 = norm(loc=mean, scale=std_dev).cdf(x2)\n",
        "prob_between = prob_x2 - prob_x1\n",
        "\n",
        "# Print the result\n",
        "print(f\"P({x1} <= X <= {x2}) = {prob_between:.2%}\")"
      ]
    },
    {
      "cell_type": "code",
      "source": [
        "# Import the required library\n",
        "from scipy.stats import norm\n",
        "\n",
        "# Define the mean and standard deviation\n",
        "mean = 27989  # Average salary in PHP\n",
        "std_dev = 3250  # Standard deviation in PHP\n",
        "\n",
        "# Define the range\n",
        "x1 = 20000\n",
        "x2 = 30000\n",
        "\n",
        "# Calculate the probabilities\n",
        "prob_x1 = norm(loc=mean, scale=std_dev).cdf(x1)\n",
        "prob_x2 = norm(loc=mean, scale=std_dev).cdf(x2)\n",
        "prob_between = prob_x2 - prob_x1\n",
        "\n",
        "# Print the result\n",
        "print(f\"P({x1} <= X <= {x2}) = {prob_between:.2%}\")"
      ],
      "metadata": {
        "colab": {
          "base_uri": "https://localhost:8080/"
        },
        "id": "PPXQat9QJROz",
        "outputId": "426321b7-e769-4388-c629-75917cc04275"
      },
      "execution_count": null,
      "outputs": [
        {
          "output_type": "stream",
          "name": "stdout",
          "text": [
            "P(20000 <= X <= 30000) = 72.50%\n"
          ]
        }
      ]
    },
    {
      "cell_type": "code",
      "source": [
        "# Import the required library\n",
        "from scipy.stats import norm\n",
        "\n",
        "# Define the z-score\n",
        "z_score = 2.30\n",
        "\n",
        "# Calculate the probability\n",
        "prob_greater_than_z = 1 - norm.cdf(z_score)\n",
        "\n",
        "# Print the result\n",
        "print(f\"P(Z > {z_score}) = {prob_greater_than_z:.2%}\")"
      ],
      "metadata": {
        "colab": {
          "base_uri": "https://localhost:8080/"
        },
        "outputId": "94211345-9e47-4a75-a117-b8f11d0dc480",
        "id": "9k5XJSGjKfZQ"
      },
      "execution_count": null,
      "outputs": [
        {
          "output_type": "stream",
          "name": "stdout",
          "text": [
            "P(Z > 2.3) = 1.07%\n"
          ]
        }
      ]
    },
    {
      "cell_type": "code",
      "source": [
        "from scipy.stats import norm\n",
        "\n",
        "# Define the z-scores\n",
        "z1 = -0.33\n",
        "z2 = 1.45\n",
        "\n",
        "# Calculate the probabilities\n",
        "prob_z1 = norm.cdf(z1)\n",
        "prob_z2 = norm.cdf(z2)\n",
        "prob_between = prob_z2 - prob_z1\n",
        "\n",
        "# Print the result\n",
        "print(f\"P({z1} < Z < {z2}) = {prob_between:.2%}\")"
      ],
      "metadata": {
        "colab": {
          "base_uri": "https://localhost:8080/"
        },
        "outputId": "91094c07-8766-4055-9228-0fb2777be1d8",
        "id": "tNfJ2fl9K1DS"
      },
      "execution_count": null,
      "outputs": [
        {
          "output_type": "stream",
          "name": "stdout",
          "text": [
            "P(-0.33 < Z < 1.45) = 55.58%\n"
          ]
        }
      ]
    },
    {
      "cell_type": "code",
      "source": [
        "from scipy.stats import norm\n",
        "\n",
        "# Define the z-score\n",
        "z_score = -2.1\n",
        "\n",
        "# Calculate P(Z > -2.1)\n",
        "prob_greater_than_z = 1 - norm.cdf(z_score)\n",
        "\n",
        "# Print the result as a percentage\n",
        "print(f\"P(Z > {z_score}) = {prob_greater_than_z:.2%}\")"
      ],
      "metadata": {
        "colab": {
          "base_uri": "https://localhost:8080/"
        },
        "outputId": "bd740ff4-c240-449f-f8c3-ddb839b1d0e9",
        "id": "T6GMby7iLLvH"
      },
      "execution_count": null,
      "outputs": [
        {
          "output_type": "stream",
          "name": "stdout",
          "text": [
            "P(Z > -2.1) = 98.21%\n"
          ]
        }
      ]
    }
  ]
}