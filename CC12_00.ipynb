{
  "nbformat": 4,
  "nbformat_minor": 0,
  "metadata": {
    "colab": {
      "provenance": [],
      "authorship_tag": "ABX9TyNlNO0/S0KX2I0pZf9LMb2y",
      "include_colab_link": true
    },
    "kernelspec": {
      "name": "python3",
      "display_name": "Python 3"
    },
    "language_info": {
      "name": "python"
    }
  },
  "cells": [
    {
      "cell_type": "markdown",
      "metadata": {
        "id": "view-in-github",
        "colab_type": "text"
      },
      "source": [
        "<a href=\"https://colab.research.google.com/github/HazelTML/HazelTML/blob/main/CC12_00.ipynb\" target=\"_parent\"><img src=\"https://colab.research.google.com/assets/colab-badge.svg\" alt=\"Open In Colab\"/></a>"
      ]
    },
    {
      "cell_type": "code",
      "execution_count": 10,
      "metadata": {
        "id": "JmlRn0oFvPj7"
      },
      "outputs": [],
      "source": [
        "#Import neccessary libraries\n",
        "import numpy as np\n",
        "import pandas as pd\n",
        "import io"
      ]
    },
    {
      "cell_type": "code",
      "source": [
        "from google.colab import files\n",
        "upload = files.upload()\n",
        "\n",
        "df = pd.read_csv(io.BytesIO(upload['ds_salaries.csv']))"
      ],
      "metadata": {
        "colab": {
          "base_uri": "https://localhost:8080/",
          "height": 73
        },
        "id": "TPa1zDoRy0ec",
        "outputId": "ebc43cb5-2f66-497e-a262-d693cb7183d2"
      },
      "execution_count": 27,
      "outputs": [
        {
          "output_type": "display_data",
          "data": {
            "text/plain": [
              "<IPython.core.display.HTML object>"
            ],
            "text/html": [
              "\n",
              "     <input type=\"file\" id=\"files-8e9ba432-6790-402a-b500-cefa5fb8090b\" name=\"files[]\" multiple disabled\n",
              "        style=\"border:none\" />\n",
              "     <output id=\"result-8e9ba432-6790-402a-b500-cefa5fb8090b\">\n",
              "      Upload widget is only available when the cell has been executed in the\n",
              "      current browser session. Please rerun this cell to enable.\n",
              "      </output>\n",
              "      <script>// Copyright 2017 Google LLC\n",
              "//\n",
              "// Licensed under the Apache License, Version 2.0 (the \"License\");\n",
              "// you may not use this file except in compliance with the License.\n",
              "// You may obtain a copy of the License at\n",
              "//\n",
              "//      http://www.apache.org/licenses/LICENSE-2.0\n",
              "//\n",
              "// Unless required by applicable law or agreed to in writing, software\n",
              "// distributed under the License is distributed on an \"AS IS\" BASIS,\n",
              "// WITHOUT WARRANTIES OR CONDITIONS OF ANY KIND, either express or implied.\n",
              "// See the License for the specific language governing permissions and\n",
              "// limitations under the License.\n",
              "\n",
              "/**\n",
              " * @fileoverview Helpers for google.colab Python module.\n",
              " */\n",
              "(function(scope) {\n",
              "function span(text, styleAttributes = {}) {\n",
              "  const element = document.createElement('span');\n",
              "  element.textContent = text;\n",
              "  for (const key of Object.keys(styleAttributes)) {\n",
              "    element.style[key] = styleAttributes[key];\n",
              "  }\n",
              "  return element;\n",
              "}\n",
              "\n",
              "// Max number of bytes which will be uploaded at a time.\n",
              "const MAX_PAYLOAD_SIZE = 100 * 1024;\n",
              "\n",
              "function _uploadFiles(inputId, outputId) {\n",
              "  const steps = uploadFilesStep(inputId, outputId);\n",
              "  const outputElement = document.getElementById(outputId);\n",
              "  // Cache steps on the outputElement to make it available for the next call\n",
              "  // to uploadFilesContinue from Python.\n",
              "  outputElement.steps = steps;\n",
              "\n",
              "  return _uploadFilesContinue(outputId);\n",
              "}\n",
              "\n",
              "// This is roughly an async generator (not supported in the browser yet),\n",
              "// where there are multiple asynchronous steps and the Python side is going\n",
              "// to poll for completion of each step.\n",
              "// This uses a Promise to block the python side on completion of each step,\n",
              "// then passes the result of the previous step as the input to the next step.\n",
              "function _uploadFilesContinue(outputId) {\n",
              "  const outputElement = document.getElementById(outputId);\n",
              "  const steps = outputElement.steps;\n",
              "\n",
              "  const next = steps.next(outputElement.lastPromiseValue);\n",
              "  return Promise.resolve(next.value.promise).then((value) => {\n",
              "    // Cache the last promise value to make it available to the next\n",
              "    // step of the generator.\n",
              "    outputElement.lastPromiseValue = value;\n",
              "    return next.value.response;\n",
              "  });\n",
              "}\n",
              "\n",
              "/**\n",
              " * Generator function which is called between each async step of the upload\n",
              " * process.\n",
              " * @param {string} inputId Element ID of the input file picker element.\n",
              " * @param {string} outputId Element ID of the output display.\n",
              " * @return {!Iterable<!Object>} Iterable of next steps.\n",
              " */\n",
              "function* uploadFilesStep(inputId, outputId) {\n",
              "  const inputElement = document.getElementById(inputId);\n",
              "  inputElement.disabled = false;\n",
              "\n",
              "  const outputElement = document.getElementById(outputId);\n",
              "  outputElement.innerHTML = '';\n",
              "\n",
              "  const pickedPromise = new Promise((resolve) => {\n",
              "    inputElement.addEventListener('change', (e) => {\n",
              "      resolve(e.target.files);\n",
              "    });\n",
              "  });\n",
              "\n",
              "  const cancel = document.createElement('button');\n",
              "  inputElement.parentElement.appendChild(cancel);\n",
              "  cancel.textContent = 'Cancel upload';\n",
              "  const cancelPromise = new Promise((resolve) => {\n",
              "    cancel.onclick = () => {\n",
              "      resolve(null);\n",
              "    };\n",
              "  });\n",
              "\n",
              "  // Wait for the user to pick the files.\n",
              "  const files = yield {\n",
              "    promise: Promise.race([pickedPromise, cancelPromise]),\n",
              "    response: {\n",
              "      action: 'starting',\n",
              "    }\n",
              "  };\n",
              "\n",
              "  cancel.remove();\n",
              "\n",
              "  // Disable the input element since further picks are not allowed.\n",
              "  inputElement.disabled = true;\n",
              "\n",
              "  if (!files) {\n",
              "    return {\n",
              "      response: {\n",
              "        action: 'complete',\n",
              "      }\n",
              "    };\n",
              "  }\n",
              "\n",
              "  for (const file of files) {\n",
              "    const li = document.createElement('li');\n",
              "    li.append(span(file.name, {fontWeight: 'bold'}));\n",
              "    li.append(span(\n",
              "        `(${file.type || 'n/a'}) - ${file.size} bytes, ` +\n",
              "        `last modified: ${\n",
              "            file.lastModifiedDate ? file.lastModifiedDate.toLocaleDateString() :\n",
              "                                    'n/a'} - `));\n",
              "    const percent = span('0% done');\n",
              "    li.appendChild(percent);\n",
              "\n",
              "    outputElement.appendChild(li);\n",
              "\n",
              "    const fileDataPromise = new Promise((resolve) => {\n",
              "      const reader = new FileReader();\n",
              "      reader.onload = (e) => {\n",
              "        resolve(e.target.result);\n",
              "      };\n",
              "      reader.readAsArrayBuffer(file);\n",
              "    });\n",
              "    // Wait for the data to be ready.\n",
              "    let fileData = yield {\n",
              "      promise: fileDataPromise,\n",
              "      response: {\n",
              "        action: 'continue',\n",
              "      }\n",
              "    };\n",
              "\n",
              "    // Use a chunked sending to avoid message size limits. See b/62115660.\n",
              "    let position = 0;\n",
              "    do {\n",
              "      const length = Math.min(fileData.byteLength - position, MAX_PAYLOAD_SIZE);\n",
              "      const chunk = new Uint8Array(fileData, position, length);\n",
              "      position += length;\n",
              "\n",
              "      const base64 = btoa(String.fromCharCode.apply(null, chunk));\n",
              "      yield {\n",
              "        response: {\n",
              "          action: 'append',\n",
              "          file: file.name,\n",
              "          data: base64,\n",
              "        },\n",
              "      };\n",
              "\n",
              "      let percentDone = fileData.byteLength === 0 ?\n",
              "          100 :\n",
              "          Math.round((position / fileData.byteLength) * 100);\n",
              "      percent.textContent = `${percentDone}% done`;\n",
              "\n",
              "    } while (position < fileData.byteLength);\n",
              "  }\n",
              "\n",
              "  // All done.\n",
              "  yield {\n",
              "    response: {\n",
              "      action: 'complete',\n",
              "    }\n",
              "  };\n",
              "}\n",
              "\n",
              "scope.google = scope.google || {};\n",
              "scope.google.colab = scope.google.colab || {};\n",
              "scope.google.colab._files = {\n",
              "  _uploadFiles,\n",
              "  _uploadFilesContinue,\n",
              "};\n",
              "})(self);\n",
              "</script> "
            ]
          },
          "metadata": {}
        },
        {
          "output_type": "stream",
          "name": "stdout",
          "text": [
            "Saving ds_salaries.csv to ds_salaries.csv\n"
          ]
        }
      ]
    },
    {
      "cell_type": "code",
      "source": [
        "print(df['job_title'].unique())"
      ],
      "metadata": {
        "colab": {
          "base_uri": "https://localhost:8080/"
        },
        "id": "4cv1Oiq45Xm3",
        "outputId": "24ac3340-f987-4717-db3c-c6d2205cb5f3"
      },
      "execution_count": 28,
      "outputs": [
        {
          "output_type": "stream",
          "name": "stdout",
          "text": [
            "['Principal Data Scientist' 'ML Engineer' 'Data Scientist'\n",
            " 'Applied Scientist' 'Data Analyst' 'Data Modeler' 'Research Engineer'\n",
            " 'Analytics Engineer' 'Business Intelligence Engineer'\n",
            " 'Machine Learning Engineer' 'Data Strategist' 'Data Engineer'\n",
            " 'Computer Vision Engineer' 'Data Quality Analyst'\n",
            " 'Compliance Data Analyst' 'Data Architect'\n",
            " 'Applied Machine Learning Engineer' 'AI Developer' 'Research Scientist'\n",
            " 'Data Analytics Manager' 'Business Data Analyst' 'Applied Data Scientist'\n",
            " 'Staff Data Analyst' 'ETL Engineer' 'Data DevOps Engineer' 'Head of Data'\n",
            " 'Data Science Manager' 'Data Manager' 'Machine Learning Researcher'\n",
            " 'Big Data Engineer' 'Data Specialist' 'Lead Data Analyst'\n",
            " 'BI Data Engineer' 'Director of Data Science'\n",
            " 'Machine Learning Scientist' 'MLOps Engineer' 'AI Scientist'\n",
            " 'Autonomous Vehicle Technician' 'Applied Machine Learning Scientist'\n",
            " 'Lead Data Scientist' 'Cloud Database Engineer' 'Financial Data Analyst'\n",
            " 'Data Infrastructure Engineer' 'Software Data Engineer' 'AI Programmer'\n",
            " 'Data Operations Engineer' 'BI Developer' 'Data Science Lead'\n",
            " 'Deep Learning Researcher' 'BI Analyst' 'Data Science Consultant'\n",
            " 'Data Analytics Specialist' 'Machine Learning Infrastructure Engineer'\n",
            " 'BI Data Analyst' 'Head of Data Science' 'Insight Analyst'\n",
            " 'Deep Learning Engineer' 'Machine Learning Software Engineer'\n",
            " 'Big Data Architect' 'Product Data Analyst'\n",
            " 'Computer Vision Software Engineer' 'Azure Data Engineer'\n",
            " 'Marketing Data Engineer' 'Data Analytics Lead' 'Data Lead'\n",
            " 'Data Science Engineer' 'Machine Learning Research Engineer'\n",
            " 'NLP Engineer' 'Manager Data Management' 'Machine Learning Developer'\n",
            " '3D Computer Vision Researcher' 'Principal Machine Learning Engineer'\n",
            " 'Data Analytics Engineer' 'Data Analytics Consultant'\n",
            " 'Data Management Specialist' 'Data Science Tech Lead'\n",
            " 'Data Scientist Lead' 'Cloud Data Engineer' 'Data Operations Analyst'\n",
            " 'Marketing Data Analyst' 'Power BI Developer' 'Product Data Scientist'\n",
            " 'Principal Data Architect' 'Machine Learning Manager'\n",
            " 'Lead Machine Learning Engineer' 'ETL Developer' 'Cloud Data Architect'\n",
            " 'Lead Data Engineer' 'Head of Machine Learning' 'Principal Data Analyst'\n",
            " 'Principal Data Engineer' 'Staff Data Scientist' 'Finance Data Analyst']\n"
          ]
        }
      ]
    },
    {
      "cell_type": "code",
      "source": [
        "average_usd = df.groupby('job_title')['salary_in_usd'].mean()\n",
        "print(average_usd)"
      ],
      "metadata": {
        "colab": {
          "base_uri": "https://localhost:8080/"
        },
        "id": "EsvbNNPt4jhV",
        "outputId": "2ded4714-7244-455e-b02b-b8729d7c5ffa"
      },
      "execution_count": 34,
      "outputs": [
        {
          "output_type": "stream",
          "name": "stdout",
          "text": [
            "job_title\n",
            "3D Computer Vision Researcher     21352.250000\n",
            "AI Developer                     136666.090909\n",
            "AI Programmer                     55000.000000\n",
            "AI Scientist                     110120.875000\n",
            "Analytics Engineer               152368.631068\n",
            "                                     ...      \n",
            "Research Engineer                163108.378378\n",
            "Research Scientist               161214.195122\n",
            "Software Data Engineer            62510.000000\n",
            "Staff Data Analyst                15000.000000\n",
            "Staff Data Scientist             105000.000000\n",
            "Name: salary_in_usd, Length: 93, dtype: float64\n"
          ]
        }
      ]
    },
    {
      "cell_type": "code",
      "source": [
        "st_dev = df.groupby('job_title')['salary_in_usd'].std()\n",
        "print(st_dev)"
      ],
      "metadata": {
        "colab": {
          "base_uri": "https://localhost:8080/"
        },
        "id": "Ry9LVBua7Zdq",
        "outputId": "b4325a29-0862-4540-81db-ab55df9b6b0f"
      },
      "execution_count": 35,
      "outputs": [
        {
          "output_type": "stream",
          "name": "stdout",
          "text": [
            "job_title\n",
            "3D Computer Vision Researcher     20046.470685\n",
            "AI Developer                      95973.553918\n",
            "AI Programmer                     21213.203436\n",
            "AI Scientist                     111733.541359\n",
            "Analytics Engineer                53838.467623\n",
            "                                     ...      \n",
            "Research Engineer                 55055.424934\n",
            "Research Scientist                74944.431627\n",
            "Software Data Engineer            17691.811665\n",
            "Staff Data Analyst                         NaN\n",
            "Staff Data Scientist                       NaN\n",
            "Name: salary_in_usd, Length: 93, dtype: float64\n"
          ]
        }
      ]
    },
    {
      "cell_type": "code",
      "source": [
        "ds_ave = df[df['job_title'] == 'Data Scientist']\n",
        "print(data_scientist['salary_in_usd'].mean())"
      ],
      "metadata": {
        "colab": {
          "base_uri": "https://localhost:8080/"
        },
        "id": "GiVR8QbF7kID",
        "outputId": "60d9ef94-cf4a-4ac1-9341-5ec4c570fabf"
      },
      "execution_count": 36,
      "outputs": [
        {
          "output_type": "stream",
          "name": "stdout",
          "text": [
            "140869.76547619049\n"
          ]
        }
      ]
    },
    {
      "cell_type": "code",
      "source": [
        "ds_std = df[df['job_title'] == 'Data Scientist']\n",
        "print(data_scientist['salary_in_usd'].std())"
      ],
      "metadata": {
        "colab": {
          "base_uri": "https://localhost:8080/"
        },
        "id": "xqOc5nYa8kdU",
        "outputId": "448270b3-00c0-4cde-b447-6b28dbeb0d8f"
      },
      "execution_count": 37,
      "outputs": [
        {
          "output_type": "stream",
          "name": "stdout",
          "text": [
            "60687.45549390867\n"
          ]
        }
      ]
    },
    {
      "cell_type": "markdown",
      "source": [],
      "metadata": {
        "id": "AxhdtWU58kVV"
      }
    },
    {
      "cell_type": "markdown",
      "source": [],
      "metadata": {
        "id": "IobgDrVGy0Sz"
      }
    }
  ]
}